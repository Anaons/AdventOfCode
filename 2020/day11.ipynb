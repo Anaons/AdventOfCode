{
 "metadata": {
  "language_info": {
   "codemirror_mode": {
    "name": "ipython",
    "version": 3
   },
   "file_extension": ".py",
   "mimetype": "text/x-python",
   "name": "python",
   "nbconvert_exporter": "python",
   "pygments_lexer": "ipython3",
   "version": "3.7.0-final"
  },
  "orig_nbformat": 2,
  "kernelspec": {
   "name": "python3",
   "display_name": "Python 3.7.0 32-bit",
   "metadata": {
    "interpreter": {
     "hash": "1611a498a77c4fff4543ec526c8de4e61cd343a510b8ae567d00a7d0655ac126"
    }
   }
  }
 },
 "nbformat": 4,
 "nbformat_minor": 2,
 "cells": [
  {
   "source": [
    "# Advent of code 2020 - day 11"
   ],
   "cell_type": "markdown",
   "metadata": {}
  },
  {
   "cell_type": "code",
   "execution_count": 13,
   "metadata": {},
   "outputs": [],
   "source": [
    "values = []\n",
    "with open('./input11.txt') as f:\n",
    "    values = f.read().splitlines()\n",
    "\t# for line in f:\n",
    "\t# \tvalues.append(int(line))"
   ]
  },
  {
   "cell_type": "code",
   "execution_count": 14,
   "metadata": {},
   "outputs": [],
   "source": [
    "sample = [\n",
    "    \"L.LL.LL.LL\",\n",
    "    \"LLLLLLL.LL\",\n",
    "    \"L.L.L..L..\",\n",
    "    \"LLLL.LL.LL\",\n",
    "    \"L.LL.LL.LL\",\n",
    "    \"L.LLLLL.LL\",\n",
    "    \"..L.L.....\",\n",
    "    \"LLLLLLLLLL\",\n",
    "    \"L.LLLLLL.L\",\n",
    "    \"L.LLLLL.LL\",\n",
    "]"
   ]
  },
  {
   "cell_type": "code",
   "execution_count": 15,
   "metadata": {},
   "outputs": [],
   "source": [
    "def printState(state: list):\n",
    "    for line in state:\n",
    "        print(''.join(line))\n",
    "    print()"
   ]
  },
  {
   "source": [
    "## Part 1 - rules\n",
    "\n",
    "The following rules are applied to every seat **simultaneously**:\n",
    "\n",
    "- If a seat is empty (L) and there are no occupied seats adjacent to it, the seat becomes occupied.\n",
    "- If a seat is occupied (#) and four or more seats adjacent to it are also occupied, the seat becomes empty.\n",
    "- Otherwise, the seat's state does not change."
   ],
   "cell_type": "markdown",
   "metadata": {}
  },
  {
   "cell_type": "code",
   "execution_count": 16,
   "metadata": {},
   "outputs": [],
   "source": [
    "def getAdjSeatsOccupied(seats: list, y: int, x: int) -> int:\n",
    "    count = 0\n",
    "    for r in [-1, 0, 1]:\n",
    "        for c in [-1, 0, 1]:\n",
    "            if r == c == 0: continue\n",
    "            if 0 <= y+r < len(seats) and 0 <= x+c < len(seats[0]):\n",
    "                if seats[y+r][x+c] == \"#\": count += 1\n",
    "\n",
    "    return count"
   ]
  },
  {
   "cell_type": "code",
   "execution_count": 17,
   "metadata": {},
   "outputs": [],
   "source": [
    "def updateSeats(lines: list) -> list:\n",
    "    hasChanged = False\n",
    "\n",
    "    newState = []\n",
    "    for i in range(len(lines)):\n",
    "        newLine = []\n",
    "        line = lines[i]\n",
    "        for j in range(len(line)):\n",
    "            x = line[j]\n",
    "            if x == '.':\n",
    "                newLine.append(x)\n",
    "            elif x == 'L': # empty seat\n",
    "                occupied = getAdjSeatsOccupied(lines, i, j)\n",
    "                if occupied == 0:\n",
    "                    hasChanged = True\n",
    "                    newLine.append('#')\n",
    "                else:\n",
    "                    newLine.append('L')\n",
    "            elif x == '#': # occupied seat\n",
    "                occupied = getAdjSeatsOccupied(lines, i, j)\n",
    "                if occupied >= 4:\n",
    "                    hasChanged = True\n",
    "                    newLine.append('L')\n",
    "                else:\n",
    "                    newLine.append('#')\n",
    "        newState.append(newLine)\n",
    "\n",
    "    if not hasChanged:\n",
    "        raise ValueError(\"No change\")\n",
    "    return newState"
   ]
  },
  {
   "cell_type": "code",
   "execution_count": 18,
   "metadata": {},
   "outputs": [],
   "source": [
    "def parseInput(lines):\n",
    "    copy = lines.copy()\n",
    "    while True:\n",
    "        try:\n",
    "            copy = updateSeats(copy)\n",
    "        except:\n",
    "            c = 0\n",
    "            for l in copy:\n",
    "                c += l.count('#')\n",
    "            return c"
   ]
  },
  {
   "cell_type": "code",
   "execution_count": 19,
   "metadata": {},
   "outputs": [
    {
     "output_type": "stream",
     "name": "stdout",
     "text": [
      "Sample should return 37: 37\n",
      "Part 1: 2418\n"
     ]
    }
   ],
   "source": [
    "print(\"Sample should return 37:\", parseInput(sample))\n",
    "print(\"Part 1:\", parseInput(values))"
   ]
  },
  {
   "source": [
    "## Part 2\n",
    "\n",
    "New rules:\n",
    "\n",
    "Now, instead of considering just the eight immediately adjacent seats, consider the first seat in each of those eight directions.\n",
    "\n",
    "Also, people seem to be more tolerant than you expected: it now takes five or more visible occupied seats for an occupied seat to become empty (rather than four or more from the previous rules). The other rules still apply: empty seats that see no occupied seats become occupied, seats matching no rule don't change, and floor never changes."
   ],
   "cell_type": "markdown",
   "metadata": {}
  },
  {
   "cell_type": "code",
   "execution_count": 20,
   "metadata": {},
   "outputs": [],
   "source": [
    "def getNextSeatsOccupied(seats: list, y: int, x: int) -> int:\n",
    "    count = 0\n",
    "    N = len(seats[0])\n",
    "\n",
    "    # E\n",
    "    i = 1\n",
    "    while y + i < N:\n",
    "        seat = seats[y + i][x]\n",
    "        if seat == 'L':\n",
    "            break\n",
    "        elif seat == '#':\n",
    "            count += 1\n",
    "            break\n",
    "        i += 1\n",
    "\n",
    "    # O\n",
    "    i = 1\n",
    "    while y - i >= 0:\n",
    "        seat = seats[y - i][x]\n",
    "        if seat == 'L':\n",
    "            break\n",
    "        elif seat == '#':\n",
    "            count += 1\n",
    "            break\n",
    "        i += 1\n",
    "\n",
    "    # N\n",
    "    i = 1\n",
    "    while x + i < N:\n",
    "        seat = seats[y][x + i]\n",
    "        if seat == 'L':\n",
    "            break\n",
    "        elif seat == '#':\n",
    "            count += 1\n",
    "            break\n",
    "        i += 1\n",
    "\n",
    "    # S\n",
    "    i = 1\n",
    "    while x - i >= 0:\n",
    "        seat = seats[y][x - i]\n",
    "        if seat == 'L':\n",
    "            break\n",
    "        elif seat == '#':\n",
    "            count += 1\n",
    "            break\n",
    "        i += 1\n",
    "\n",
    "    # N-E\n",
    "    i = 1\n",
    "    while y + i < N and x + i < N:\n",
    "        seat = seats[y + i][x + i]\n",
    "        if seat == 'L':\n",
    "            break\n",
    "        elif seat == '#':\n",
    "            count += 1\n",
    "            break\n",
    "        i += 1\n",
    "\n",
    "    # N-O\n",
    "    i = 1\n",
    "    while y - i >= 0 and x + i < N:\n",
    "        seat = seats[y - i][x + i]\n",
    "        if seat == 'L':\n",
    "            break\n",
    "        elif seat == '#':\n",
    "            count += 1\n",
    "            break\n",
    "        i += 1\n",
    "\n",
    "    # S-E\n",
    "    i = 1\n",
    "    while y + i < N and x - i >= 0:\n",
    "        seat = seats[y + i][x - i]\n",
    "        if seat == 'L':\n",
    "            break\n",
    "        elif seat == '#':\n",
    "            count += 1\n",
    "            break\n",
    "        i += 1\n",
    "    \n",
    "    # S-O\n",
    "    i = 1\n",
    "    while y - i >= 0 and x - i >= 0:\n",
    "        seat = seats[y - i][x - i]\n",
    "        if seat == 'L':\n",
    "            break\n",
    "        elif seat == '#':\n",
    "            count += 1\n",
    "            break\n",
    "        i += 1\n",
    "\n",
    "    return count"
   ]
  },
  {
   "cell_type": "code",
   "execution_count": 21,
   "metadata": {},
   "outputs": [],
   "source": [
    "def updateSeats_v2(lines: list) -> list:\n",
    "    hasChanged = False\n",
    "\n",
    "    newState = []\n",
    "    for i in range(len(lines)):\n",
    "        newLine = []\n",
    "        line = lines[i]\n",
    "        for j in range(len(line)):\n",
    "            x = line[j]\n",
    "            if x == '.':\n",
    "                newLine.append(x)\n",
    "            elif x == 'L': # empty seat\n",
    "                occupied = getNextSeatsOccupied(lines, i, j)\n",
    "                if occupied == 0:\n",
    "                    hasChanged = True\n",
    "                    newLine.append('#')\n",
    "                else:\n",
    "                    newLine.append('L')\n",
    "            elif x == '#': # occupied seat\n",
    "                occupied = getNextSeatsOccupied(lines, i, j)\n",
    "                if occupied >= 5:\n",
    "                    hasChanged = True\n",
    "                    newLine.append('L')\n",
    "                else:\n",
    "                    newLine.append('#')\n",
    "        newState.append(newLine)\n",
    "\n",
    "    if not hasChanged:\n",
    "        raise ValueError(\"No change\")\n",
    "    return newState"
   ]
  },
  {
   "cell_type": "code",
   "execution_count": 22,
   "metadata": {},
   "outputs": [],
   "source": [
    "def parseInput_v2(lines):\n",
    "    copy = lines.copy()\n",
    "    while True:\n",
    "        try:\n",
    "            copy = updateSeats_v2(copy)\n",
    "        except:\n",
    "            c = 0\n",
    "            for l in copy:\n",
    "                c += l.count('#')\n",
    "            return c"
   ]
  },
  {
   "cell_type": "code",
   "execution_count": 23,
   "metadata": {},
   "outputs": [
    {
     "output_type": "stream",
     "name": "stdout",
     "text": [
      "Sample should return 26: 100\n",
      "Part 2: 9408\n"
     ]
    }
   ],
   "source": [
    "print(\"Sample should return 26:\", parseInput_v2(sample))\n",
    "print(\"Part 2:\", parseInput_v2(values))"
   ]
  },
  {
   "cell_type": "code",
   "execution_count": null,
   "metadata": {},
   "outputs": [],
   "source": []
  }
 ]
}