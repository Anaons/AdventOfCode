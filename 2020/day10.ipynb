{
 "metadata": {
  "language_info": {
   "codemirror_mode": {
    "name": "ipython",
    "version": 3
   },
   "file_extension": ".py",
   "mimetype": "text/x-python",
   "name": "python",
   "nbconvert_exporter": "python",
   "pygments_lexer": "ipython3",
   "version": "3.7.0-final"
  },
  "orig_nbformat": 2,
  "kernelspec": {
   "name": "python3",
   "display_name": "Python 3.7.0 32-bit",
   "metadata": {
    "interpreter": {
     "hash": "1611a498a77c4fff4543ec526c8de4e61cd343a510b8ae567d00a7d0655ac126"
    }
   }
  }
 },
 "nbformat": 4,
 "nbformat_minor": 2,
 "cells": [
  {
   "source": [
    "# Advent of Code 2020 - day 10"
   ],
   "cell_type": "markdown",
   "metadata": {}
  },
  {
   "source": [
    "## Getting inputs and samples"
   ],
   "cell_type": "markdown",
   "metadata": {}
  },
  {
   "cell_type": "code",
   "execution_count": 9,
   "metadata": {},
   "outputs": [],
   "source": [
    "values = []\n",
    "with open('./input10.txt') as f:\n",
    "    # values = f.read().splitlines()\n",
    "\tfor line in f:\n",
    "\t\tvalues.append(int(line))"
   ]
  },
  {
   "cell_type": "code",
   "execution_count": 10,
   "metadata": {},
   "outputs": [],
   "source": [
    "sample1 = [ 16, 10, 15, 5, 1, 11, 7, 19, 6, 12, 4 ]\n",
    "sample2 = [ 28, 33, 18, 42, 31, 14, 46, 20, 48, 47, 24, 23, 49, 45, 19, 38, 39, 11, 1, 32, 25, 35, 8, 17, 7, 9, 4, 2, 34, 10, 3 ]"
   ]
  },
  {
   "source": [
    "## Part 1"
   ],
   "cell_type": "markdown",
   "metadata": {}
  },
  {
   "cell_type": "code",
   "execution_count": 11,
   "metadata": {},
   "outputs": [],
   "source": [
    "def parseLines( lines: list ):\n",
    "    lines.sort()\n",
    "\n",
    "    diff1 = 0\n",
    "    diff2 = 0\n",
    "    diff3 = 1 # we add the device's built-in adapter \n",
    "    previous = 0\n",
    "    for jolt in lines:\n",
    "        if jolt - previous == 1:\n",
    "            diff1 += 1\n",
    "        elif jolt - previous == 3:\n",
    "            diff3 += 1\n",
    "        previous = jolt\n",
    "    \n",
    "    return diff1 * diff3"
   ]
  },
  {
   "cell_type": "code",
   "execution_count": 12,
   "metadata": {},
   "outputs": [
    {
     "output_type": "stream",
     "name": "stdout",
     "text": [
      "Sample1 should return 35: 35\nSample1 should return 220: 220\nPart 1: 2244\n"
     ]
    }
   ],
   "source": [
    "print(\"Sample1 should return 35:\", parseLines(sample1))\n",
    "print(\"Sample1 should return 220:\", parseLines(sample2))\n",
    "print(\"Part 1:\", parseLines(values))"
   ]
  },
  {
   "source": [
    "## Part 2\n",
    "\n",
    "All the 3-jolt diff gives a pair of adapters that MUST be in the adapters chain.\n",
    "\n",
    "We can divide the list in sublists using these pairs and only calculate all possible paths inside these sublists.\n",
    "\n",
    "Since the elements of a sublist are following integers, we can just work using the lenght of the sublist, the content does not matter.\n",
    "\n",
    "The final result is the product of all the sublists' result."
   ],
   "cell_type": "markdown",
   "metadata": {}
  },
  {
   "cell_type": "code",
   "execution_count": 15,
   "metadata": {},
   "outputs": [],
   "source": [
    "import functools\n",
    "\n",
    "def parseLines2(lines):\n",
    "    lines = lines.copy()\n",
    "    lines.sort()\n",
    "    lines.insert(0, 0)\n",
    "    lines.append(lines[-1] + 3)\n",
    "\n",
    "    sublists = []\n",
    "    previous = -1\n",
    "    current_sublist = []\n",
    "    for jolt in lines:\n",
    "        if jolt - previous == 1:\n",
    "            current_sublist.append(jolt)\n",
    "        elif jolt - previous == 3:\n",
    "            sublists.append(current_sublist)\n",
    "            current_sublist = [jolt]\n",
    "        previous = jolt\n",
    "\n",
    "    r = 1\n",
    "    for sublist in sublists:\n",
    "        r *= findPaths(len(sublist))\n",
    "    \n",
    "    return r\n",
    "\n",
    "# add some cahce to improve performances (probably not needed since the initial list contains only 100 elements)\n",
    "@functools.lru_cache(maxsize = None)\n",
    "def findPaths(length):\n",
    "    if length == 1:\n",
    "        return 1\n",
    "    elif length == 2:\n",
    "        return 1\n",
    "    elif length == 3:\n",
    "        return 2\n",
    "    else:\n",
    "        return findPaths(length - 1) + findPaths(length - 2) + findPaths (length - 3)\n"
   ]
  },
  {
   "cell_type": "code",
   "execution_count": 16,
   "metadata": {},
   "outputs": [
    {
     "output_type": "stream",
     "name": "stdout",
     "text": [
      "Sample1 should give 8: 8\nSample1 should give 19208: 19208\nPart 2: 3947645370368\n"
     ]
    }
   ],
   "source": [
    "print(\"Sample1 should give 8:\", parseLines2(sample1))\n",
    "print(\"Sample1 should give 19208:\", parseLines2(sample2))\n",
    "print(\"Part 2:\", parseLines2(values))"
   ]
  },
  {
   "cell_type": "code",
   "execution_count": null,
   "metadata": {},
   "outputs": [],
   "source": []
  }
 ]
}